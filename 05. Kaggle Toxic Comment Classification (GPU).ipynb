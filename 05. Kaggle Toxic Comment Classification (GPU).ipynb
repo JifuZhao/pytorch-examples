{
 "cells": [
  {
   "cell_type": "markdown",
   "metadata": {},
   "source": [
    "# Kaggle Toxic Comment Classification\n",
    "\n",
    "* Identify and classify toxic online comments\n",
    "* Ref: https://towardsdatascience.com/use-torchtext-to-load-nlp-datasets-part-i-5da6f1c89d84\n",
    "* Ref: https://zhuanlan.zhihu.com/p/34722385\n",
    "* Ref: https://www.jianshu.com/p/e5adb235399e\n",
    "* Ref: http://mlexplained.com/2018/02/08/a-comprehensive-tutorial-to-torchtext/\n",
    "* Ref: http://anie.me/On-Torchtext/\n",
    "* Ref: https://github.com/bentrevett/pytorch-sentiment-analysis"
   ]
  },
  {
   "cell_type": "code",
   "execution_count": 25,
   "metadata": {},
   "outputs": [],
   "source": [
    "import os\n",
    "import subprocess\n",
    "\n",
    "classpath = os.environ['CLASSPATH']\n",
    "hadoop_path = os.path.join(os.environ['HADOOP_PREFIX'], 'bin', 'hadoop')\n",
    "hadoop_classpath = subprocess.check_output([hadoop_path, 'classpath', '--glob']).decode()\n",
    "os.environ['CLASSPATH'] = classpath + os.pathsep + hadoop_classpath"
   ]
  },
  {
   "cell_type": "code",
   "execution_count": 26,
   "metadata": {},
   "outputs": [],
   "source": [
    "import random, re, time\n",
    "import numpy as np\n",
    "import pandas as pd\n",
    "import seaborn as sns\n",
    "import matplotlib.pyplot as plt\n",
    "from sklearn.metrics import roc_curve, roc_auc_score\n",
    "\n",
    "import torch\n",
    "import torch.nn as nn\n",
    "import torch.optim as optim\n",
    "import torch.nn.functional as torch_F\n",
    "import tensorflow as tf\n",
    "\n",
    "from torchtext import data\n",
    "from torchtext.vocab import Vectors\n",
    "\n",
    "from pyspark.sql import SparkSession\n",
    "import pyspark.sql.functions as F\n",
    "from pyspark.sql.types import *\n",
    "\n",
    "# fix random state\n",
    "random.seed(42)\n",
    "np.random.seed(42)\n",
    "torch.manual_seed(42)\n",
    "\n",
    "# CuDNN reproducibility\n",
    "torch.backends.cudnn.deterministic = True\n",
    "torch.backends.cudnn.benchmark = False\n",
    "\n",
    "%matplotlib inline"
   ]
  },
  {
   "cell_type": "code",
   "execution_count": 27,
   "metadata": {},
   "outputs": [
    {
     "data": {
      "text/html": [
       "\n",
       "        <div>\n",
       "            <p><b>SparkSession - hive</b></p>\n",
       "            \n",
       "        <div>\n",
       "            <p><b>SparkContext</b></p>\n",
       "            <p><a href=\"https://polarisgq-jt1.gq.vcg.yahoo.com:50505/proxy/application_1567976920126_418214\" target=\"_blank\">Spark UI</a></p>\n",
       "            <dl>\n",
       "              <dt>Spark Version</dt>\n",
       "                <dd><code>v2.4.1.28</code></dd>\n",
       "              <dt>Python Version</dt>\n",
       "                <dd><code>v3.6</code></dd>\n",
       "              <dt>AppName</dt>\n",
       "                <dd><code>jup-Kaggle Toxic Comment Classification</code></dd>\n",
       "              <dt>AppID</dt>\n",
       "                <dd><code>application_1567976920126_418214</code></dd>\n",
       "            </dl>\n",
       "        </div>\n",
       "    \n",
       "        </div>\n",
       "    "
      ],
      "text/plain": [
       "<pyspark.sql.session.SparkSession at 0x7ff63822a080>"
      ]
     },
     "execution_count": 27,
     "metadata": {},
     "output_type": "execute_result"
    }
   ],
   "source": [
    "spark = SparkSession.builder \\\n",
    "        .appName('Kaggle_Toxic_Comment_Classification') \\\n",
    "        .enableHiveSupport() \\\n",
    "        .getOrCreate()\n",
    "        \n",
    "spark"
   ]
  },
  {
   "cell_type": "code",
   "execution_count": 28,
   "metadata": {},
   "outputs": [
    {
     "name": "stdout",
     "output_type": "stream",
     "text": [
      "cuda:0\n"
     ]
    }
   ],
   "source": [
    "# using GPU\n",
    "device = torch.device('cuda:0' if torch.cuda.is_available() else 'cpu')\n",
    "print(device)"
   ]
  },
  {
   "cell_type": "markdown",
   "metadata": {},
   "source": [
    "# Part I: Create Dataset and Dataloader"
   ]
  },
  {
   "cell_type": "markdown",
   "metadata": {},
   "source": [
    "### 1. Move csv files to temp locations"
   ]
  },
  {
   "cell_type": "code",
   "execution_count": 29,
   "metadata": {},
   "outputs": [],
   "source": [
    "# move file to temp location\n",
    "path = 'hdfs://default/user/jzhao01/pytorch-examples/data/toxic-comment/train.csv'\n",
    "with tf.gfile.GFile(path, 'rb') as f:\n",
    "    gfile_model = f.read()\n",
    "    \n",
    "with open('train.csv', 'wb') as f:\n",
    "    f.write(gfile_model)\n",
    "    \n",
    "path = 'hdfs://default/user/jzhao01/pytorch-examples/data/toxic-comment/test.csv'\n",
    "with tf.gfile.GFile(path, 'rb') as f:\n",
    "    gfile_model = f.read()\n",
    "    \n",
    "with open('test.csv', 'wb') as f:\n",
    "    f.write(gfile_model)"
   ]
  },
  {
   "cell_type": "markdown",
   "metadata": {},
   "source": [
    "### 2. Define custom tokenizer"
   ]
  },
  {
   "cell_type": "code",
   "execution_count": 30,
   "metadata": {},
   "outputs": [],
   "source": [
    "# define custom tokenizer\n",
    "# ref: https://towardsdatascience.com/use-torchtext-to-load-nlp-datasets-part-i-5da6f1c89d84\n",
    "# ref: https://zhuanlan.zhihu.com/p/34722385\n",
    "\n",
    "def tokenizer(comment: str):\n",
    "    comment = str(comment).lower()\n",
    "    comment = re.sub(r\"'m\", \" am\", comment)\n",
    "    comment = re.sub(r\"n't\", \" not\", comment)\n",
    "    comment = re.sub(r\"'ll\", ' will', comment)\n",
    "    comment = re.sub(r\"[\\*\\\"“”\\n\\\\…\\+\\-\\/\\=\\(\\)‘•:\\[\\]\\|’\\!;.#$%&;@%!,?']\", \" \", comment)\n",
    "    comment = re.sub(r\"[ ]+\", \" \", comment)\n",
    "    comment = re.sub(r\"\\!+\", \" \", comment)\n",
    "    comment = re.sub(r\"\\,+\", \" \", comment)\n",
    "    comment = re.sub(r\"\\?+\", \" \", comment)\n",
    "\n",
    "    tokens = comment.split()\n",
    "    \n",
    "    return tokens"
   ]
  },
  {
   "cell_type": "markdown",
   "metadata": {},
   "source": [
    "### 3. Define data fields and create train, val, and test data"
   ]
  },
  {
   "cell_type": "code",
   "execution_count": 31,
   "metadata": {},
   "outputs": [],
   "source": [
    "# define data fields\n",
    "TEXT = data.Field(sequential=True, lower=True, tokenize=tokenizer, batch_first=True, \n",
    "                  pad_first=True, is_target=False)\n",
    "\n",
    "LABELS = data.Field(sequential=False, use_vocab=False, batch_first=True, is_target=True)"
   ]
  },
  {
   "cell_type": "code",
   "execution_count": 32,
   "metadata": {},
   "outputs": [],
   "source": [
    "# create dataset\n",
    "fields = [('id', None), ('comment_text', TEXT), ('toxic', LABELS), ('severe_toxic', LABELS), \n",
    "          ('obscene', LABELS), ('threat', LABELS), ('insult', LABELS), ('identity_hate', LABELS)] \n",
    "\n",
    "train = data.TabularDataset(path='./train.csv', format='CSV', fields=fields, skip_header=True)\n",
    "\n",
    "train, val = train.split(split_ratio=0.8)\n",
    "\n",
    "test = data.TabularDataset(path='./test.csv', format='CSV', fields=fields, skip_header=True)"
   ]
  },
  {
   "cell_type": "code",
   "execution_count": 33,
   "metadata": {},
   "outputs": [],
   "source": [
    "# use pre-trained embeddings\n",
    "vectors = Vectors(name='./glove.6B.100d.txt')"
   ]
  },
  {
   "cell_type": "code",
   "execution_count": 34,
   "metadata": {},
   "outputs": [],
   "source": [
    "# build Vocab\n",
    "TEXT.build_vocab(train, val, test, vectors=vectors)"
   ]
  },
  {
   "cell_type": "code",
   "execution_count": 35,
   "metadata": {},
   "outputs": [],
   "source": [
    "# build iterator\n",
    "train_iter, val_iter = data.BucketIterator.splits((train, val), batch_sizes=(128, 128), repeat=False, \n",
    "                                                  sort_key=lambda x: len(x.comment_text), \n",
    "                                                  shuffle=True, sort_within_batch=False)\n",
    "\n",
    "test_iter = data.Iterator(test, batch_size=1, train=False, repeat=False, shuffle=False, sort=False)"
   ]
  },
  {
   "cell_type": "code",
   "execution_count": 36,
   "metadata": {},
   "outputs": [],
   "source": [
    "# build custom iterator wrapper\n",
    "class BatchWrapper(object):\n",
    "    def __init__(self, data_iter, x_var, y_vars):\n",
    "        self.data_iter = data_iter\n",
    "        self.x_var = x_var\n",
    "        self.y_vars = y_vars\n",
    "        \n",
    "    def __iter__(self):\n",
    "        for batch in self.data_iter:\n",
    "            x = getattr(batch, self.x_var)\n",
    "            y_list = [getattr(batch, y_var).unsqueeze(1) for y_var in self.y_vars]\n",
    "            y = torch.cat(y_list, dim=1).float()\n",
    "            \n",
    "            yield (x, y)\n",
    "            \n",
    "    def __len__(self):\n",
    "        return len(self.data_iter)\n",
    "    \n",
    "# wrap iterators\n",
    "x_var = 'comment_text'\n",
    "y_vars = ['toxic', 'severe_toxic', 'obscene', 'threat', 'insult', 'identity_hate']\n",
    "\n",
    "# create dataloader\n",
    "train_loader = BatchWrapper(train_iter, x_var, y_vars)\n",
    "val_loader = BatchWrapper(val_iter, x_var, y_vars)\n",
    "test_loader = BatchWrapper(test_iter, x_var, y_vars)"
   ]
  },
  {
   "cell_type": "markdown",
   "metadata": {},
   "source": [
    "# Part II: Modeling"
   ]
  },
  {
   "cell_type": "markdown",
   "metadata": {},
   "source": [
    "### 1. Define bidirectional LSTM model"
   ]
  },
  {
   "cell_type": "code",
   "execution_count": 37,
   "metadata": {},
   "outputs": [],
   "source": [
    "# define bidirectional LSTM model\n",
    "class MyLSTM(nn.Module):\n",
    "    def __init__(self, num_embeddings, embedding_dim, hidden_size, fc_size, dropout=0.5):\n",
    "        super(MyLSTM, self).__init__()\n",
    "        \n",
    "        self.embedding = nn.Embedding(num_embeddings, embedding_dim)\n",
    "        self.lstm = nn.LSTM(embedding_dim, hidden_size, batch_first=True, bidirectional=True)\n",
    "        \n",
    "        self.fc1 = nn.Linear(hidden_size * 2, fc_size)\n",
    "        self.bn = nn.BatchNorm1d(fc_size)\n",
    "        self.dropout = nn.Dropout(p=dropout)\n",
    "        \n",
    "        self.fc2 = nn.Linear(fc_size, 6)\n",
    "        \n",
    "    def forward(self, x):\n",
    "        # word embedding\n",
    "        embeds = self.embedding(x)\n",
    "        output, _ = self.lstm(embeds)\n",
    "        batch, seq_len, _ = output.shape\n",
    "        output = output.reshape(batch, seq_len, 2, -1)\n",
    "        \n",
    "        forward_output = output[:, -1, 0, :].view(batch, -1)\n",
    "        backward_output = output[:, 0, 1, :].view(batch, -1)\n",
    "        concat = torch.cat([forward_output, backward_output], dim=1)\n",
    "        \n",
    "        # dropout and fully-connected layer\n",
    "        x = self.dropout(concat)\n",
    "        x = torch_F.relu(self.fc1(x))\n",
    "        x = self.bn(x)\n",
    "        x = self.dropout(x)\n",
    "        \n",
    "        output = self.fc2(x)\n",
    "        \n",
    "        return output"
   ]
  },
  {
   "cell_type": "markdown",
   "metadata": {},
   "source": [
    "### 2. Build the model"
   ]
  },
  {
   "cell_type": "code",
   "execution_count": 38,
   "metadata": {},
   "outputs": [
    {
     "data": {
      "text/plain": [
       "torch.Size([280602, 100])"
      ]
     },
     "execution_count": 38,
     "metadata": {},
     "output_type": "execute_result"
    }
   ],
   "source": [
    "# determine vector size\n",
    "vectors = TEXT.vocab.vectors\n",
    "vectors.shape"
   ]
  },
  {
   "cell_type": "code",
   "execution_count": 39,
   "metadata": {},
   "outputs": [
    {
     "data": {
      "text/plain": [
       "MyLSTM(\n",
       "  (embedding): Embedding(280602, 100)\n",
       "  (lstm): LSTM(100, 32, batch_first=True, bidirectional=True)\n",
       "  (fc1): Linear(in_features=64, out_features=24, bias=True)\n",
       "  (bn): BatchNorm1d(24, eps=1e-05, momentum=0.1, affine=True, track_running_stats=True)\n",
       "  (dropout): Dropout(p=0.5, inplace=False)\n",
       "  (fc2): Linear(in_features=24, out_features=6, bias=True)\n",
       ")"
      ]
     },
     "execution_count": 39,
     "metadata": {},
     "output_type": "execute_result"
    }
   ],
   "source": [
    "# define 1 layer LSTM\n",
    "model = MyLSTM(num_embeddings=len(vectors), \n",
    "               embedding_dim=100, \n",
    "               hidden_size=32, \n",
    "               fc_size=24,\n",
    "               dropout=0.5)\n",
    "\n",
    "# move device to GPU\n",
    "model = model.to(device)\n",
    "\n",
    "model"
   ]
  },
  {
   "cell_type": "code",
   "execution_count": 40,
   "metadata": {},
   "outputs": [],
   "source": [
    "# use pretrained embedding\n",
    "model.embedding.weight.data = vectors.to(device)\n",
    "model.embedding.weight.requires_grad = False"
   ]
  },
  {
   "cell_type": "code",
   "execution_count": 41,
   "metadata": {},
   "outputs": [],
   "source": [
    "# define loss and optimizer\n",
    "criterion = nn.BCEWithLogitsLoss(reduction='sum')\n",
    "\n",
    "params = [param for param in model.parameters() if param.requires_grad is True]\n",
    "optimizer = optim.Adam(params=params, lr=0.001)"
   ]
  },
  {
   "cell_type": "code",
   "execution_count": 42,
   "metadata": {},
   "outputs": [
    {
     "name": "stdout",
     "output_type": "stream",
     "text": [
      "Epoch   1 ===>  train_loss: 1.41647  val_loss: 0.43500  time:   59s\n",
      "Epoch   2 ===>  train_loss: 0.48147  val_loss: 0.35985  time:   54s\n",
      "Epoch   3 ===>  train_loss: 0.42390  val_loss: 0.35269  time:   54s\n",
      "Epoch   4 ===>  train_loss: 0.39580  val_loss: 0.35674  time:   54s\n",
      "Epoch   5 ===>  train_loss: 0.38603  val_loss: 0.32332  time:   54s\n",
      "Epoch   6 ===>  train_loss: 0.36918  val_loss: 0.34209  time:   55s\n",
      "Epoch   7 ===>  train_loss: 0.36013  val_loss: 0.32073  time:   55s\n",
      "Epoch   8 ===>  train_loss: 0.36014  val_loss: 0.31327  time:   55s\n",
      "Epoch   9 ===>  train_loss: 0.34566  val_loss: 0.32610  time:   55s\n",
      "Epoch  10 ===>  train_loss: 0.34275  val_loss: 0.36484  time:   54s\n",
      "Epoch  11 ===>  train_loss: 0.33378  val_loss: 0.32495  time:   54s\n",
      "Epoch  12 ===>  train_loss: 0.32853  val_loss: 0.31740  time:   56s\n",
      "Epoch  13 ===>  train_loss: 0.32224  val_loss: 0.31752  time:   55s\n",
      "Epoch  14 ===>  train_loss: 0.33635  val_loss: 0.31122  time:   55s\n",
      "Epoch  15 ===>  train_loss: 0.31826  val_loss: 0.31181  time:   56s\n",
      "Epoch  16 ===>  train_loss: 0.31446  val_loss: 0.31780  time:   54s\n",
      "Epoch  17 ===>  train_loss: 0.31067  val_loss: 0.30849  time:   54s\n",
      "Epoch  18 ===>  train_loss: 0.30734  val_loss: 0.30563  time:   55s\n",
      "Epoch  19 ===>  train_loss: 0.30357  val_loss: 0.31337  time:   54s\n",
      "Epoch  20 ===>  train_loss: 0.30123  val_loss: 0.31217  time:   56s\n",
      "Epoch  21 ===>  train_loss: 0.29877  val_loss: 0.30620  time:   55s\n",
      "Epoch  22 ===>  train_loss: 0.29583  val_loss: 0.31375  time:   55s\n",
      "Epoch  23 ===>  train_loss: 0.29540  val_loss: 0.31497  time:   57s\n",
      "Epoch  24 ===>  train_loss: 0.29123  val_loss: 0.31558  time:   57s\n",
      "Epoch  25 ===>  train_loss: 0.29105  val_loss: 0.31028  time:   56s\n",
      "Epoch  26 ===>  train_loss: 0.28748  val_loss: 0.31684  time:   57s\n",
      "Epoch  27 ===>  train_loss: 0.28596  val_loss: 0.30754  time:   56s\n",
      "Epoch  28 ===>  train_loss: 0.28552  val_loss: 0.31701  time:   57s\n",
      "Epoch  29 ===>  train_loss: 0.28398  val_loss: 0.31942  time:   56s\n",
      "Epoch  30 ===>  train_loss: 0.28324  val_loss: 0.31846  time:   57s\n",
      "Epoch  31 ===>  train_loss: 0.34545  val_loss: 0.34588  time:   57s\n",
      "Epoch  32 ===>  train_loss: 0.32916  val_loss: 0.34332  time:   57s\n",
      "Epoch  33 ===>  train_loss: 0.32067  val_loss: 0.36582  time:   57s\n",
      "Epoch  34 ===>  train_loss: 0.31485  val_loss: 0.36458  time:   57s\n",
      "Epoch  35 ===>  train_loss: 0.30970  val_loss: 0.37938  time:   57s\n",
      "Epoch  36 ===>  train_loss: 0.30705  val_loss: 0.36381  time:   57s\n",
      "Epoch  37 ===>  train_loss: 0.30183  val_loss: 0.35130  time:   57s\n",
      "Epoch  38 ===>  train_loss: 0.29867  val_loss: 0.38664  time:   56s\n",
      "Epoch  39 ===>  train_loss: 0.29546  val_loss: 0.34473  time:   57s\n",
      "Epoch  40 ===>  train_loss: 0.29121  val_loss: 0.34537  time:   57s\n",
      "Epoch  41 ===>  train_loss: 0.28989  val_loss: 0.36447  time:   57s\n",
      "Epoch  42 ===>  train_loss: 0.37916  val_loss: 0.32348  time:   57s\n",
      "Epoch  43 ===>  train_loss: 0.31004  val_loss: 0.32195  time:   57s\n",
      "Epoch  44 ===>  train_loss: 0.29441  val_loss: 0.33189  time:   57s\n",
      "Epoch  45 ===>  train_loss: 0.28942  val_loss: 0.33253  time:   57s\n",
      "Epoch  46 ===>  train_loss: 0.28665  val_loss: 0.33210  time:   57s\n",
      "Epoch  47 ===>  train_loss: 0.28396  val_loss: 0.32610  time:   57s\n",
      "Epoch  48 ===>  train_loss: 0.27771  val_loss: 0.32938  time:   57s\n",
      "Epoch  49 ===>  train_loss: 0.27725  val_loss: 0.32896  time:   56s\n",
      "Epoch  50 ===>  train_loss: 0.27397  val_loss: 0.33107  time:   57s\n",
      "Epoch  51 ===>  train_loss: 0.27286  val_loss: 0.32501  time:   56s\n",
      "Epoch  52 ===>  train_loss: 0.27172  val_loss: 0.33317  time:   57s\n",
      "Epoch  53 ===>  train_loss: 0.26954  val_loss: 0.32942  time:   57s\n",
      "Epoch  54 ===>  train_loss: 0.26989  val_loss: 0.33747  time:   57s\n",
      "Epoch  55 ===>  train_loss: 0.26620  val_loss: 0.35997  time:   56s\n",
      "Epoch  56 ===>  train_loss: 0.26455  val_loss: 0.32807  time:   57s\n",
      "Epoch  57 ===>  train_loss: 0.26471  val_loss: 0.32754  time:   57s\n",
      "Epoch  58 ===>  train_loss: 0.26300  val_loss: 0.34366  time:   57s\n",
      "Epoch  59 ===>  train_loss: 0.26354  val_loss: 0.34990  time:   57s\n",
      "Epoch  60 ===>  train_loss: 0.26582  val_loss: 0.33003  time:   57s\n",
      "Epoch  61 ===>  train_loss: 0.26110  val_loss: 0.36171  time:   58s\n",
      "Epoch  62 ===>  train_loss: 0.25870  val_loss: 0.32859  time:   57s\n",
      "Epoch  63 ===>  train_loss: 0.25848  val_loss: 0.34593  time:   56s\n",
      "Epoch  64 ===>  train_loss: 0.25946  val_loss: 0.32780  time:   57s\n",
      "Epoch  65 ===>  train_loss: 0.27688  val_loss: 0.37204  time:   57s\n",
      "Epoch  66 ===>  train_loss: 0.28675  val_loss: 0.35473  time:   57s\n",
      "Epoch  67 ===>  train_loss: 0.26909  val_loss: 0.34050  time:   56s\n",
      "Epoch  68 ===>  train_loss: 0.27244  val_loss: 0.38251  time:   57s\n",
      "Epoch  69 ===>  train_loss: 0.27573  val_loss: 0.36981  time:   57s\n",
      "Epoch  70 ===>  train_loss: 0.26994  val_loss: 0.37549  time:   56s\n",
      "Epoch  71 ===>  train_loss: 0.26992  val_loss: 0.37473  time:   56s\n",
      "Epoch  72 ===>  train_loss: 0.26518  val_loss: 0.38486  time:   58s\n",
      "Epoch  73 ===>  train_loss: 0.26460  val_loss: 0.39591  time:   57s\n",
      "Epoch  74 ===>  train_loss: 0.26512  val_loss: 0.36498  time:   57s\n",
      "Epoch  75 ===>  train_loss: 0.26331  val_loss: 0.35637  time:   57s\n",
      "Epoch  76 ===>  train_loss: 0.26098  val_loss: 0.34843  time:   60s\n",
      "Epoch  77 ===>  train_loss: 0.25731  val_loss: 0.34542  time:   59s\n",
      "Epoch  78 ===>  train_loss: 0.25820  val_loss: 0.36993  time:   60s\n",
      "Epoch  79 ===>  train_loss: 0.25720  val_loss: 0.34588  time:   57s\n",
      "Epoch  80 ===>  train_loss: 0.25338  val_loss: 0.37575  time:   56s\n",
      "Epoch  81 ===>  train_loss: 0.25408  val_loss: 0.35279  time:   56s\n",
      "Epoch  82 ===>  train_loss: 0.25215  val_loss: 0.36052  time:   56s\n",
      "Epoch  83 ===>  train_loss: 0.25118  val_loss: 0.36486  time:   56s\n",
      "Epoch  84 ===>  train_loss: 0.25112  val_loss: 0.35413  time:   56s\n",
      "Epoch  85 ===>  train_loss: 0.24924  val_loss: 0.36553  time:   55s\n",
      "Epoch  86 ===>  train_loss: 0.25150  val_loss: 0.39420  time:   56s\n",
      "Epoch  87 ===>  train_loss: 0.24952  val_loss: 0.36710  time:   56s\n",
      "Epoch  88 ===>  train_loss: 0.25030  val_loss: 0.35162  time:   56s\n",
      "Epoch  89 ===>  train_loss: 0.25002  val_loss: 0.36753  time:   56s\n",
      "Epoch  90 ===>  train_loss: 0.24667  val_loss: 0.36305  time:   57s\n",
      "Epoch  91 ===>  train_loss: 0.24611  val_loss: 0.37500  time:   56s\n",
      "Epoch  92 ===>  train_loss: 0.24412  val_loss: 0.37794  time:   56s\n",
      "Epoch  93 ===>  train_loss: 0.24470  val_loss: 0.37487  time:   57s\n",
      "Epoch  94 ===>  train_loss: 0.24608  val_loss: 0.36051  time:   57s\n",
      "Epoch  95 ===>  train_loss: 0.24412  val_loss: 0.37033  time:   57s\n",
      "Epoch  96 ===>  train_loss: 0.24312  val_loss: 0.35873  time:   56s\n",
      "Epoch  97 ===>  train_loss: 0.24775  val_loss: 0.37521  time:   56s\n",
      "Epoch  98 ===>  train_loss: 0.24384  val_loss: 0.34667  time:   57s\n",
      "Epoch  99 ===>  train_loss: 0.24184  val_loss: 0.36292  time:   56s\n",
      "Epoch 100 ===>  train_loss: 0.24283  val_loss: 0.36470  time:   57s\n",
      "--------------------------------------------------------------------------------\n",
      "Best Model\n",
      "Epoch  18 ===>  train_loss: 0.30734  val_loss: 0.30563\n",
      "--------------------------------------------------------------------------------\n"
     ]
    }
   ],
   "source": [
    "# train neural network\n",
    "num_epochs = 100\n",
    "train_loss_list = []\n",
    "val_loss_list = []\n",
    "\n",
    "# keep recording the best model\n",
    "best_epoch = None\n",
    "train_best_loss = float('inf')\n",
    "val_best_loss = float('inf')\n",
    "\n",
    "for i in range(num_epochs):\n",
    "    t0 = time.time()\n",
    "    train_loss = 0\n",
    "    train_cnt = 0\n",
    "    \n",
    "    # training steps\n",
    "    model.train()\n",
    "    for batch_x, batch_y in train_loader:\n",
    "        # move to GPU\n",
    "        batch_x = batch_x.to(device)\n",
    "        batch_y = batch_y.to(device)\n",
    "        \n",
    "        optimizer.zero_grad()\n",
    "        output = model(batch_x)\n",
    "        loss = criterion(output, batch_y)\n",
    "        \n",
    "        loss.backward()\n",
    "        optimizer.step()\n",
    "        \n",
    "        train_loss += loss.item()\n",
    "        train_cnt += len(batch_x)\n",
    "        \n",
    "    # validation steps\n",
    "    val_loss = 0\n",
    "    val_cnt = 0\n",
    "    \n",
    "    model.eval()\n",
    "    with torch.no_grad():\n",
    "        for batch_x, batch_y in val_loader:\n",
    "            # move to GPU\n",
    "            batch_x = batch_x.to(device)\n",
    "            batch_y = batch_y.to(device)    \n",
    "    \n",
    "            output = model(batch_x)\n",
    "            loss = criterion(output, batch_y)\n",
    "            \n",
    "            val_loss += loss.item()\n",
    "            val_cnt += len(batch_x)\n",
    "       \n",
    "    # help information\n",
    "    train_epoch_loss = train_loss / train_cnt\n",
    "    val_epoch_loss = val_loss / val_cnt\n",
    "    \n",
    "    train_loss_list.append(train_epoch_loss)\n",
    "    val_loss_list.append(val_epoch_loss)\n",
    "    \n",
    "    elapsed_time = time.time() - t0\n",
    "    string_prefix = 'Epoch {:3} ===>  train_loss:{:8.5f}  val_loss:{:8.5f}  time:{:5.0f}s'\n",
    "    print(string_prefix.format(i + 1, train_epoch_loss, val_epoch_loss, elapsed_time))\n",
    "    \n",
    "    # keep recording the best model\n",
    "    if val_epoch_loss < val_best_loss:\n",
    "        best_epoch = i + 1\n",
    "        train_best_loss = train_epoch_loss\n",
    "        val_best_loss = val_epoch_loss\n",
    "        \n",
    "        # save the bestmodel\n",
    "        torch.save(model.state_dict(), 'toxic_model.pt')\n",
    "        with open('toxic_model.pt', 'rb') as f:\n",
    "            f_content = f.read()\n",
    "\n",
    "        path = 'hdfs://default/user/jzhao01/pytorch-examples/models/toxic_model.pt'\n",
    "        with tf.io.gfile.GFile(path, 'wb') as f:\n",
    "            f.write(f_content)\n",
    "\n",
    "# get the best model information\n",
    "print('-' * 80)\n",
    "print('Best Model')\n",
    "string_prefix = 'Epoch {:3} ===>  train_loss:{:8.5f}  val_loss:{:8.5f}'\n",
    "print(string_prefix.format(best_epoch, train_best_loss, val_best_loss))\n",
    "print('-' * 80)"
   ]
  },
  {
   "cell_type": "code",
   "execution_count": 43,
   "metadata": {},
   "outputs": [
    {
     "data": {
      "image/png": "[encoded data removed]",
      "text/plain": [
       "<Figure size 720x432 with 1 Axes>"
      ]
     },
     "metadata": {},
     "output_type": "display_data"
    }
   ],
   "source": [
    "# visualization\n",
    "fig, ax = plt.subplots(figsize=(10, 6))\n",
    "ax.plot(range(1, len(train_loss_list) + 1), train_loss_list, label='train loss')\n",
    "ax.plot(range(1, len(val_loss_list) + 1), val_loss_list, label='val loss')\n",
    "ax.set_xlabel('Epochs', fontsize=14)\n",
    "ax.set_ylabel('Loss', fontsize=14)\n",
    "ax.legend(fontsize=12)\n",
    "ax.grid(True)\n",
    "plt.tight_layout()\n",
    "plt.show()"
   ]
  },
  {
   "cell_type": "markdown",
   "metadata": {},
   "source": [
    "### 3. Make predictions"
   ]
  },
  {
   "cell_type": "code",
   "execution_count": 44,
   "metadata": {},
   "outputs": [
    {
     "data": {
      "text/plain": [
       "MyLSTM(\n",
       "  (embedding): Embedding(280602, 100)\n",
       "  (lstm): LSTM(100, 32, batch_first=True, bidirectional=True)\n",
       "  (fc1): Linear(in_features=64, out_features=24, bias=True)\n",
       "  (bn): BatchNorm1d(24, eps=1e-05, momentum=0.1, affine=True, track_running_stats=True)\n",
       "  (dropout): Dropout(p=0.5, inplace=False)\n",
       "  (fc2): Linear(in_features=24, out_features=6, bias=True)\n",
       ")"
      ]
     },
     "execution_count": 44,
     "metadata": {},
     "output_type": "execute_result"
    }
   ],
   "source": [
    "# load trained model\n",
    "path = 'hdfs://default/user/jzhao01/pytorch-examples/models/toxic_model.pt'\n",
    "with tf.gfile.GFile(path, 'rb') as f:\n",
    "    gfile_model = f.read()\n",
    "    \n",
    "with open('tmp_model.pt', 'wb') as f:\n",
    "    f.write(gfile_model)\n",
    "    \n",
    "# load model state_dict\n",
    "state_dict = torch.load('tmp_model.pt')\n",
    "\n",
    "# define 1 layer LSTM\n",
    "model = MyLSTM(num_embeddings=len(vectors), \n",
    "               embedding_dim=100, \n",
    "               hidden_size=32, \n",
    "               fc_size=24,\n",
    "               dropout=0.5)\n",
    "\n",
    "# move model to GPU\n",
    "model = model.to(device)\n",
    "model.load_state_dict(state_dict)\n",
    "\n",
    "# change to evaluation \n",
    "model.eval()\n",
    "\n",
    "model"
   ]
  },
  {
   "cell_type": "code",
   "execution_count": 45,
   "metadata": {},
   "outputs": [],
   "source": [
    "# make predictions\n",
    "test_label = []\n",
    "test_pred = []\n",
    "\n",
    "with torch.no_grad():\n",
    "    for batch_x, batch_y in test_loader:\n",
    "        # corner case: no sentence\n",
    "        if batch_x.shape[1] == 0:\n",
    "            test_pred.append(np.array([0.0, 0.0, 0.0, 0.0, 0.0, 0.0]))\n",
    "            test_label.append(batch_y.detach().squeeze().numpy())\n",
    "            continue\n",
    "            \n",
    "        # move to GPU\n",
    "        batch_x = batch_x.to(device)\n",
    "        batch_y = batch_y.to(device)    \n",
    "            \n",
    "        output = model(batch_x)\n",
    "        prediction = torch.sigmoid(output).to('cpu').detach().squeeze().numpy()\n",
    "        \n",
    "        test_pred.append(prediction)\n",
    "        test_label.append(batch_y.to('cpu').detach().squeeze().numpy())\n",
    "            \n",
    "test_pred = np.array(test_pred)\n",
    "test_label = np.array(test_label, dtype=int)"
   ]
  },
  {
   "cell_type": "code",
   "execution_count": 46,
   "metadata": {},
   "outputs": [
    {
     "data": {
      "image/png": "[encoded data removed]",
      "text/plain": [
       "<Figure size 864x504 with 1 Axes>"
      ]
     },
     "metadata": {},
     "output_type": "display_data"
    }
   ],
   "source": [
    "# calculate AUC\n",
    "names = ['toxic', 'severe_toxic', 'obscene', 'threat', 'insult', 'identity_hate']\n",
    "fpr_list = []\n",
    "tpr_list = []\n",
    "auc_list = []\n",
    "\n",
    "for i in range(6):\n",
    "    y_true = test_label[:, i]\n",
    "    y_score = test_pred[:, i]\n",
    "    fpr, tpr, _ = roc_curve(y_true, y_score)\n",
    "    auc = roc_auc_score(y_true, y_score)\n",
    "    \n",
    "    fpr_list.append(fpr)\n",
    "    tpr_list.append(tpr)\n",
    "    auc_list.append(auc)\n",
    "\n",
    "# visualization\n",
    "fig, ax = plt.subplots(figsize=(12, 7))\n",
    "for i in range(6):\n",
    "    fpr, tpr, auc = fpr_list[i], tpr_list[i], auc_list[i]\n",
    "    label = '{} auc: {:5.4f}'.format(names[i], auc)\n",
    "    ax.plot(fpr, tpr, label=label)\n",
    "ax.set_xlabel('False Positive Rate', fontsize=14)\n",
    "ax.set_ylabel('True Positive Rate', fontsize=14)\n",
    "ax.legend(fontsize=12)\n",
    "ax.grid(True)\n",
    "plt.tight_layout()\n",
    "plt.show()"
   ]
  },
  {
   "cell_type": "code",
   "execution_count": 47,
   "metadata": {},
   "outputs": [],
   "source": [
    "spark.stop()"
   ]
  },
  {
   "cell_type": "code",
   "execution_count": null,
   "metadata": {},
   "outputs": [],
   "source": []
  }
 ],
 "metadata": {
  "kernel_args": {
   "conf": {
    "spark.executor.memory": "50G",
    "spark.executor.memoryOverhead": "50G",
    "spark.executorEnv.YARN_CONTAINER_RUNTIME_DOCKER_IMAGE": "ml/rhel7_mlbundle:current",
    "spark.pyspark.driver.python": "/opt/python/bin/python3.6",
    "spark.pyspark.python": "/opt/python/bin/python3.6",
    "spark.yarn.appMasterEnv.YARN_CONTAINER_RUNTIME_DOCKER_IMAGE": "ml/rhel7_mlbundle:current",
    "spark.yarn.maxAppAttempts": "1"
   },
   "driver-memory": "56G",
   "files": [
    "hdfs:///user/jzhao01/packages/torchtext_model/glove.6B.100d.txt"
   ],
   "queue": "gpu",
   "version": "latest"
  },
  "kernelspec": {
   "display_name": "PySpark 3 (Beta)",
   "language": "",
   "name": "pysparkkernel3"
  },
  "language_info": {
   "codemirror_mode": {
    "name": "python",
    "version": 3
   },
   "mimetype": "text/x-python",
   "name": "pyspark3",
   "pygments_lexer": "ipython2",
   "version": "1.0"
  }
 },
 "nbformat": 4,
 "nbformat_minor": 2
}

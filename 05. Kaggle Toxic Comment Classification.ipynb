{
 "cells": [
  {
   "cell_type": "markdown",
   "metadata": {},
   "source": [
    "### [Kaggle Toxic Comment Classification](https://www.kaggle.com/c/jigsaw-toxic-comment-classification-challenge)\n",
    "\n",
    "* Identify and classify toxic online comments\n",
    "* Ref: [https://towardsdatascience.com/use-torchtext-to-load-nlp-datasets-part-i-5da6f1c89d84](https://towardsdatascience.com/use-torchtext-to-load-nlp-datasets-part-i-5da6f1c89d84)\n",
    "* Ref: [https://zhuanlan.zhihu.com/p/34722385](https://zhuanlan.zhihu.com/p/34722385)\n",
    "* Ref: [https://www.jianshu.com/p/e5adb235399e](https://www.jianshu.com/p/e5adb235399e)"
   ]
  },
  {
   "cell_type": "code",
   "execution_count": 169,
   "metadata": {},
   "outputs": [],
   "source": [
    "import random, re, time\n",
    "import numpy as np\n",
    "import pandas as pd\n",
    "import matplotlib.pyplot as plt\n",
    "from sklearn.metrics import roc_curve, roc_auc_score\n",
    "\n",
    "import torch\n",
    "import torch.nn as nn\n",
    "import torch.optim as optim\n",
    "import torch.nn.functional as F\n",
    "\n",
    "import spacy\n",
    "from torchtext import data\n",
    "from torchtext.vocab import GloVe\n",
    "\n",
    "random.seed(42)\n",
    "np.random.seed(42)\n",
    "torch.manual_seed(42)\n",
    "\n",
    "%matplotlib inline"
   ]
  },
  {
   "cell_type": "markdown",
   "metadata": {},
   "source": [
    "# Create Dataset and Dataloader"
   ]
  },
  {
   "cell_type": "code",
   "execution_count": 2,
   "metadata": {},
   "outputs": [],
   "source": [
    "# define custom tokenizer\n",
    "# ref: https://towardsdatascience.com/use-torchtext-to-load-nlp-datasets-part-i-5da6f1c89d84\n",
    "# ref: https://zhuanlan.zhihu.com/p/34722385\n",
    "NLP = spacy.load('en')\n",
    "\n",
    "def tokenizer(comment):\n",
    "    comment = re.sub(r\"[\\*\\\"“”\\n\\\\…\\+\\-\\/\\=\\(\\)‘•:\\[\\]\\|’\\!;.#$%&;@%!,?]\", \" \", str(comment))\n",
    "    comment = re.sub(r\"[ ]+\", \" \", comment)\n",
    "    comment = re.sub(r\"\\!+\", \" \", comment)\n",
    "    comment = re.sub(r\"\\,+\", \" \", comment)\n",
    "    comment = re.sub(r\"\\?+\", \" \", comment)\n",
    "    \n",
    "    tokens = [x.text for x in NLP.tokenizer(comment) if x.text != \" \"]\n",
    "    \n",
    "    return tokens"
   ]
  },
  {
   "cell_type": "code",
   "execution_count": 3,
   "metadata": {},
   "outputs": [],
   "source": [
    "# define data fields\n",
    "TEXT = data.Field(sequential=True, lower=True, tokenize=tokenizer, batch_first=True, \n",
    "                  pad_first=True, is_target=False)\n",
    "\n",
    "LABELS = data.Field(sequential=False, use_vocab=False, batch_first=True, is_target=True)"
   ]
  },
  {
   "cell_type": "code",
   "execution_count": 5,
   "metadata": {},
   "outputs": [],
   "source": [
    "# create dataset\n",
    "fields = [('id', None), ('comment_text', TEXT), ('toxic', LABELS), ('severe_toxic', LABELS), \n",
    "          ('obscene', LABELS), ('threat', LABELS), ('insult', LABELS), ('identity_hate', LABELS)] \n",
    "\n",
    "train = data.TabularDataset(path='./toxic-comment/train.csv', format='CSV', fields=fields, skip_header=True)\n",
    "\n",
    "train, val = train.split(split_ratio=0.8)\n",
    "\n",
    "test = data.TabularDataset(path='./toxic-comment/test.csv', format='CSV', fields=fields, skip_header=True)"
   ]
  },
  {
   "cell_type": "code",
   "execution_count": 6,
   "metadata": {},
   "outputs": [],
   "source": [
    "# build Vocab\n",
    "TEXT.build_vocab(train, val, test, vectors=GloVe(name='6B', dim=100))"
   ]
  },
  {
   "cell_type": "code",
   "execution_count": 253,
   "metadata": {},
   "outputs": [],
   "source": [
    "# build iterator\n",
    "train_iter, val_iter = data.BucketIterator.splits((train, val), batch_sizes=(64, 64), repeat=False, \n",
    "                                                  sort_key=lambda x: len(x.comment_text), \n",
    "                                                  shuffle=True, sort_within_batch=False)\n",
    "\n",
    "test_iter = data.Iterator(test, batch_size=1, train=False, repeat=False, shuffle=False, sort=False)"
   ]
  },
  {
   "cell_type": "code",
   "execution_count": 254,
   "metadata": {},
   "outputs": [],
   "source": [
    "# build custom iterator wrapper\n",
    "class BatchWrapper(object):\n",
    "    def __init__(self, data_iter, x_var, y_vars):\n",
    "        self.data_iter = data_iter\n",
    "        self.x_var = x_var\n",
    "        self.y_vars = y_vars\n",
    "        \n",
    "    def __iter__(self):\n",
    "        for batch in self.data_iter:\n",
    "            x = getattr(batch, self.x_var)\n",
    "            y_list = [getattr(batch, y_var).unsqueeze(1) for y_var in self.y_vars]\n",
    "            y = torch.cat(y_list, dim=1).float()\n",
    "            \n",
    "            yield (x, y)\n",
    "            \n",
    "    def __len__(self):\n",
    "        return len(self.data_iter)\n",
    "    \n",
    "# wrap iterators\n",
    "x_var = 'comment_text'\n",
    "y_vars = ['toxic', 'severe_toxic', 'obscene', 'threat', 'insult', 'identity_hate']\n",
    "\n",
    "train_loader = BatchWrapper(train_iter, x_var, y_vars)\n",
    "val_loader = BatchWrapper(val_iter, x_var, y_vars)\n",
    "test_loader = BatchWrapper(test_iter, x_var, y_vars)"
   ]
  },
  {
   "cell_type": "markdown",
   "metadata": {},
   "source": [
    "# Define LSTM Model"
   ]
  },
  {
   "cell_type": "code",
   "execution_count": 223,
   "metadata": {},
   "outputs": [],
   "source": [
    "# define LSTM model\n",
    "class MyLSTM(nn.Module):\n",
    "    def __init__(self, num_embeddings, embedding_dim, hidden_size, num_layers=1, dropout=0):\n",
    "        super(MyLSTM, self).__init__()\n",
    "        \n",
    "        self.embedding = nn.Embedding(num_embeddings, embedding_dim)\n",
    "        self.lstm = nn.LSTM(embedding_dim, hidden_size, num_layers, batch_first=True, \n",
    "                            dropout=dropout, bidirectional=True)\n",
    "        self.fc = nn.Linear(hidden_size * 2, 6)\n",
    "        \n",
    "    def forward(self, x):\n",
    "        embeds = self.embedding(x)\n",
    "        output, _ = self.lstm(embeds)\n",
    "        batch, seq_len, _ = output.shape\n",
    "        output = output.reshape(batch, seq_len, 2, -1)\n",
    "        \n",
    "        forward_output = output[:, -1, 0, :].view(batch, -1)\n",
    "        backward_output = output[:, 0, 1, :].view(batch, -1)\n",
    "        concat = torch.cat([forward_output, backward_output], dim=1)\n",
    "        \n",
    "        prediction = self.fc(concat)\n",
    "        \n",
    "        return prediction"
   ]
  },
  {
   "cell_type": "markdown",
   "metadata": {},
   "source": [
    "# Build Model"
   ]
  },
  {
   "cell_type": "code",
   "execution_count": 224,
   "metadata": {},
   "outputs": [
    {
     "data": {
      "text/plain": [
       "torch.Size([276872, 100])"
      ]
     },
     "execution_count": 224,
     "metadata": {},
     "output_type": "execute_result"
    }
   ],
   "source": [
    "# vector size\n",
    "vectors = TEXT.vocab.vectors\n",
    "vectors.shape"
   ]
  },
  {
   "cell_type": "code",
   "execution_count": 225,
   "metadata": {},
   "outputs": [
    {
     "data": {
      "text/plain": [
       "MyLSTM(\n",
       "  (embedding): Embedding(276872, 100)\n",
       "  (lstm): LSTM(100, 50, batch_first=True, bidirectional=True)\n",
       "  (fc): Linear(in_features=100, out_features=6, bias=True)\n",
       ")"
      ]
     },
     "execution_count": 225,
     "metadata": {},
     "output_type": "execute_result"
    }
   ],
   "source": [
    "# define 1 layer LSTM\n",
    "model = MyLSTM(num_embeddings=len(vectors), embedding_dim=100, hidden_size=50, num_layers=1, dropout=0)\n",
    "\n",
    "model"
   ]
  },
  {
   "cell_type": "code",
   "execution_count": 226,
   "metadata": {},
   "outputs": [],
   "source": [
    "# use pretrained embedding\n",
    "model.embedding.weight.data = vectors\n",
    "model.embedding.weight.requires_grad = False"
   ]
  },
  {
   "cell_type": "code",
   "execution_count": 227,
   "metadata": {},
   "outputs": [],
   "source": [
    "# define loss and optimizer\n",
    "criterion = nn.BCEWithLogitsLoss(reduction='mean')\n",
    "\n",
    "params = [param for param in model.parameters() if param.requires_grad is True]\n",
    "optimizer = optim.Adam(params=params, lr=0.001)"
   ]
  },
  {
   "cell_type": "code",
   "execution_count": 278,
   "metadata": {},
   "outputs": [
    {
     "name": "stdout",
     "output_type": "stream",
     "text": [
      "Epoch   1 ===>  train_loss: 0.08120  val_loss: 0.06695  time: 1919s\n",
      "\n",
      "--------------------------------------------------------------------------------\n",
      "Best Model\n",
      "Epoch   1 ===>  train_loss: 0.08120  val_loss: 0.06695\n",
      "--------------------------------------------------------------------------------\n"
     ]
    }
   ],
   "source": [
    "# train neural network\n",
    "num_epochs = 10\n",
    "train_loss_list = []\n",
    "val_loss_list = []\n",
    "\n",
    "# keep recording the best model\n",
    "best_epoch = None\n",
    "train_best_loss = float('inf')\n",
    "val_best_loss = float('inf')\n",
    "\n",
    "for i in range(num_epochs):\n",
    "    t0 = time.time()\n",
    "    train_loss = 0\n",
    "    train_cnt = 0\n",
    "    \n",
    "    # training steps\n",
    "    model.train()\n",
    "    for batch_x, batch_y in train_loader:\n",
    "        optimizer.zero_grad()\n",
    "        output = model(batch_x)\n",
    "        loss = criterion(output, batch_y)\n",
    "        \n",
    "        loss.backward()\n",
    "        optimizer.step()\n",
    "        \n",
    "        train_loss += loss.item() * len(batch_x)\n",
    "        train_cnt += len(batch_x)\n",
    "        \n",
    "    # validation steps\n",
    "    val_loss = 0\n",
    "    val_cnt = 0\n",
    "    \n",
    "    model.eval()\n",
    "    with torch.no_grad():\n",
    "        for batch_x, batch_y in val_loader:\n",
    "            output = model(batch_x)\n",
    "            loss = criterion(output, batch_y)\n",
    "            \n",
    "            val_loss += loss.item() * len(batch_x)\n",
    "            val_cnt += len(batch_x)\n",
    "       \n",
    "    # help information\n",
    "    train_epoch_loss = train_loss / train_cnt\n",
    "    val_epoch_loss = val_loss / val_cnt\n",
    "    \n",
    "    train_loss_list.append(train_epoch_loss)\n",
    "    val_loss_list.append(val_epoch_loss)\n",
    "    \n",
    "    elapsed_time = time.time() - t0\n",
    "    string_prefix = 'Epoch {:3} ===>  train_loss:{:8.5f}  val_loss:{:8.5f}  time:{:5.0f}s'\n",
    "    print(string_prefix.format(i + 1, train_epoch_loss, val_epoch_loss, elapsed_time))\n",
    "    \n",
    "    if val_epoch_loss < val_best_loss:\n",
    "        torch.save(model.state_dict(), './model/toxic_model.pt')\n",
    "        best_epoch = i + 1\n",
    "        train_best_loss = train_epoch_loss\n",
    "        val_best_loss = val_epoch_loss\n",
    "\n",
    "print()\n",
    "print('-' * 80)\n",
    "print('Best Model')\n",
    "string_prefix = 'Epoch {:3} ===>  train_loss:{:8.5f}  val_loss:{:8.5f}'\n",
    "print(string_prefix.format(best_epoch, train_best_loss, val_best_loss))\n",
    "print('-' * 80)"
   ]
  },
  {
   "cell_type": "code",
   "execution_count": 245,
   "metadata": {},
   "outputs": [
    {
     "data": {
      "image/png": "[encoded data removed]",
      "text/plain": [
       "<Figure size 720x432 with 1 Axes>"
      ]
     },
     "metadata": {
      "needs_background": "light"
     },
     "output_type": "display_data"
    }
   ],
   "source": [
    "# visualization\n",
    "fig, ax = plt.subplots(figsize=(10, 6))\n",
    "ax.plot(range(1, len(train_loss_list) + 1), train_loss_list, label='train loss')\n",
    "ax.plot(range(1, len(val_loss_list) + 1), val_loss_list, label='val loss')\n",
    "ax.set_xlabel('Epochs', fontsize=12)\n",
    "ax.set_ylabel('Loss', fontsize=12)\n",
    "ax.legend(fontsize=12)\n",
    "ax.grid(True)\n",
    "plt.tight_layout()\n",
    "plt.show()"
   ]
  },
  {
   "cell_type": "markdown",
   "metadata": {},
   "source": [
    "# Make Prediction"
   ]
  },
  {
   "cell_type": "code",
   "execution_count": 246,
   "metadata": {},
   "outputs": [
    {
     "data": {
      "text/plain": [
       "MyLSTM(\n",
       "  (embedding): Embedding(276872, 100)\n",
       "  (lstm): LSTM(100, 50, batch_first=True, bidirectional=True)\n",
       "  (fc): Linear(in_features=100, out_features=6, bias=True)\n",
       ")"
      ]
     },
     "execution_count": 246,
     "metadata": {},
     "output_type": "execute_result"
    }
   ],
   "source": [
    "# load model\n",
    "model.load_state_dict(torch.load('./model/toxic_model.pt'))\n",
    "model.eval()"
   ]
  },
  {
   "cell_type": "code",
   "execution_count": 275,
   "metadata": {},
   "outputs": [],
   "source": [
    "# make predictions\n",
    "test_label = []\n",
    "test_pred = []\n",
    "\n",
    "with torch.no_grad():\n",
    "    for batch_x, batch_y in test_loader:\n",
    "        output = model(batch_x)\n",
    "        prediction = torch.sigmoid(output).squeeze().numpy()\n",
    "        \n",
    "        test_pred.append(prediction)\n",
    "        test_label.append(batch_y.squeeze().numpy())\n",
    "            \n",
    "test_pred = np.array(test_pred)\n",
    "test_label = np.array(test_label)"
   ]
  },
  {
   "cell_type": "code",
   "execution_count": null,
   "metadata": {},
   "outputs": [],
   "source": [
    "# calculate AUC"
   ]
  },
  {
   "cell_type": "code",
   "execution_count": null,
   "metadata": {},
   "outputs": [],
   "source": []
  }
 ],
 "metadata": {
  "kernelspec": {
   "display_name": "Python 3",
   "language": "python",
   "name": "python3"
  },
  "language_info": {
   "codemirror_mode": {
    "name": "ipython",
    "version": 3
   },
   "file_extension": ".py",
   "mimetype": "text/x-python",
   "name": "python",
   "nbconvert_exporter": "python",
   "pygments_lexer": "ipython3",
   "version": "3.7.3"
  }
 },
 "nbformat": 4,
 "nbformat_minor": 2
}
